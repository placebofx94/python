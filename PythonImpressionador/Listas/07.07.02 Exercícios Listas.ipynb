{
 "cells": [
  {
   "cell_type": "markdown",
   "metadata": {},
   "source": [
    "# Exercícios\n",
    "\n",
    "## 1. Faturamento do Melhor e do Pior Mês do Ano\n",
    "\n",
    "Qual foi o valor de vendas do melhor mês do Ano?\n",
    "E valor do pior mês do ano?"
   ]
  },
  {
   "cell_type": "code",
   "execution_count": 11,
   "metadata": {},
   "outputs": [
    {
     "name": "stdout",
     "output_type": "stream",
     "text": [
      "melhor mês: nov numero de vendas: 49051\n",
      "pior mês: dez numero de vendas: 9650\n"
     ]
    }
   ],
   "source": [
    "meses = ['jan', 'fev', 'mar', 'abr', 'mai', 'jun', 'jul', 'ago', 'set', 'out', 'nov', 'dez']\n",
    "vendas_1sem = [25000, 29000, 22200, 17750, 15870, 19900]\n",
    "vendas_2sem = [19850, 20120, 17540, 15555, 49051, 9650]\n",
    "VendasAnuais = vendas_1sem + vendas_2sem\n",
    "\n",
    "#melhor mês\n",
    "MesMaxVendas = meses[VendasAnuais.index(max(VendasAnuais))]\n",
    "MaxVendas = max(VendasAnuais)\n",
    "print('melhor mês: {} numero de vendas: {}'.format(MesMaxVendas, MaxVendas))\n",
    "\n",
    "#pior mês\n",
    "MesMinVendas = meses[VendasAnuais.index(min(VendasAnuais))]\n",
    "MinVendas = min(VendasAnuais)\n",
    "print('pior mês: {} numero de vendas: {}'.format(MesMinVendas, MinVendas))"
   ]
  },
  {
   "cell_type": "markdown",
   "metadata": {},
   "source": [
    "## 2. Continuação\n",
    "\n",
    "Agora relacione as duas listas para printar 'O melhor mês do ano foi {} com {} vendas' e o mesmo para o pior mês do ano.\n",
    "\n",
    "Calcule também o faturamento total do Ano e quanto que o melhor mês representou do faturamento total.\n",
    "\n",
    "Obs: Para o faturamento total, pode usar a função sum(lista) que soma todos os itens de uma lista"
   ]
  },
  {
   "cell_type": "code",
   "execution_count": 19,
   "metadata": {},
   "outputs": [
    {
     "name": "stdout",
     "output_type": "stream",
     "text": [
      "O melhor mês do ano foi nov com 49051 vendas\n",
      "O pior mês do ano foi dez com 9650 vendas\n",
      "O faturamento total do ano foi de 261486, sendo que o mês com mais vendas representa 18.76% do faturamento total\n"
     ]
    }
   ],
   "source": [
    "print('O melhor mês do ano foi {} com {} vendas'.format(MesMaxVendas, MaxVendas))\n",
    "print('O pior mês do ano foi {} com {} vendas'.format(MesMinVendas, MinVendas))\n",
    "\n",
    "FaturamentoTotal = sum(VendasAnuais)\n",
    "Percentagem = MaxVendas / FaturamentoTotal\n",
    "print('O faturamento total do ano foi de {}, sendo que o mês com mais vendas representa {:.2%} do faturamento total' .format(FaturamentoTotal, Percentagem))"
   ]
  },
  {
   "cell_type": "markdown",
   "metadata": {},
   "source": [
    "## 3. Crie uma lista com o top 3 valores de vendas do ano (sem fazer \"no olho\")\n",
    "\n",
    "Dica: o método remove retira um item da lista."
   ]
  },
  {
   "cell_type": "code",
   "execution_count": 23,
   "metadata": {},
   "outputs": [
    {
     "name": "stdout",
     "output_type": "stream",
     "text": [
      "[49051, 29000, 25000, 22200, 20120, 19900, 19850, 17750, 17540, 15870, 15555, 9650]\n",
      "[49051, 29000, 25000]\n"
     ]
    }
   ],
   "source": [
    "VendasAnuais.sort(reverse = True)\n",
    "Top3 = VendasAnuais[:3]\n",
    "print(Top3)"
   ]
  }
 ],
 "metadata": {
  "kernelspec": {
   "display_name": "Python 3 (ipykernel)",
   "language": "python",
   "name": "python3"
  },
  "language_info": {
   "codemirror_mode": {
    "name": "ipython",
    "version": 3
   },
   "file_extension": ".py",
   "mimetype": "text/x-python",
   "name": "python",
   "nbconvert_exporter": "python",
   "pygments_lexer": "ipython3",
   "version": "3.9.7"
  }
 },
 "nbformat": 4,
 "nbformat_minor": 4
}
