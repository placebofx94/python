{
 "cells": [
  {
   "cell_type": "markdown",
   "metadata": {},
   "source": [
    "# Algumas Funções Básicas de Lista\n",
    "\n",
    "## Tamanho da Lista\n",
    "\n",
    "tamanho = len(lista)"
   ]
  },
  {
   "cell_type": "code",
   "execution_count": 1,
   "metadata": {},
   "outputs": [],
   "source": [
    "produtos = ['apple tv', 'mac', 'iphone x', 'IPad', 'apple watch', 'mac book', 'airpods']"
   ]
  },
  {
   "cell_type": "markdown",
   "metadata": {},
   "source": [
    "- Quantos produtos temos a venda?"
   ]
  },
  {
   "cell_type": "code",
   "execution_count": 2,
   "metadata": {},
   "outputs": [
    {
     "name": "stdout",
     "output_type": "stream",
     "text": [
      "7\n"
     ]
    }
   ],
   "source": [
    "tamanho = len(produtos)\n",
    "print(tamanho)"
   ]
  },
  {
   "cell_type": "markdown",
   "metadata": {},
   "source": [
    "## Maior e Menor Valor\n",
    "\n",
    "maior = max(lista)\n",
    "\n",
    "menor = min(lista)"
   ]
  },
  {
   "cell_type": "code",
   "execution_count": 3,
   "metadata": {},
   "outputs": [],
   "source": [
    "vendas = [1000, 1500, 15000, 270, 900, 100, 1200]"
   ]
  },
  {
   "cell_type": "markdown",
   "metadata": {},
   "source": [
    "- Qual o item mais vendido?\n",
    "- Qual o item menos vendido?"
   ]
  },
  {
   "cell_type": "code",
   "execution_count": 6,
   "metadata": {},
   "outputs": [
    {
     "name": "stdout",
     "output_type": "stream",
     "text": [
      "15000\n",
      "100\n",
      "O produto mais vendido foi: iphone x\n",
      "O produto menos vendido foi: mac book\n"
     ]
    }
   ],
   "source": [
    "MaisVendido = max(vendas)\n",
    "print(MaisVendido)\n",
    "MenosVendido = min(vendas)\n",
    "print(MenosVendido)\n",
    "\n",
    "#mais vendido\n",
    "i = vendas.index(MaisVendido)\n",
    "ProdutoMaisVendido = produtos[i]\n",
    "print('O produto mais vendido foi: {}'.format(ProdutoMaisVendido))\n",
    "\n",
    "#menos vendido\n",
    "i = vendas.index(MenosVendido)\n",
    "ProdutoMenosVendido = produtos[i]\n",
    "print('O produto menos vendido foi: {}'.format(ProdutoMenosVendido))"
   ]
  },
  {
   "cell_type": "code",
   "execution_count": null,
   "metadata": {},
   "outputs": [],
   "source": []
  }
 ],
 "metadata": {
  "kernelspec": {
   "display_name": "Python 3 (ipykernel)",
   "language": "python",
   "name": "python3"
  },
  "language_info": {
   "codemirror_mode": {
    "name": "ipython",
    "version": 3
   },
   "file_extension": ".py",
   "mimetype": "text/x-python",
   "name": "python",
   "nbconvert_exporter": "python",
   "pygments_lexer": "ipython3",
   "version": "3.9.7"
  }
 },
 "nbformat": 4,
 "nbformat_minor": 4
}
