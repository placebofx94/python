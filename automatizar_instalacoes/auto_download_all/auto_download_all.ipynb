{
 "cells": [
  {
   "cell_type": "code",
   "execution_count": 10,
   "metadata": {},
   "outputs": [],
   "source": [
    "#Desenvolvido por Samuel Bartolomedi para Camisc\n",
    "#Abril/2021\n",
    "#automatização download doors\n",
    "\n",
    "import pyautogui\n",
    "import time\n",
    "from selenium import webdriver\n",
    "\n",
    "navegador = webdriver.Chrome('D:\\Anaconda\\chromedriver.exe')\n",
    "navegador.maximize_window()\n",
    "\n",
    "pyautogui.PAUSE = 1\n",
    "pyautogui.alert(\"Vai começar, clique OK ou enter \")\n",
    "\n",
    "#baixar doors\n",
    "navegador.get(\"http://ws.camisc.coop.br/doors/Doors.application\")\n",
    "time.sleep(2)\n",
    "pyautogui.press(\"tab\")\n",
    "pyautogui.press(\"enter\")"
   ]
  },
  {
   "cell_type": "code",
   "execution_count": 11,
   "metadata": {},
   "outputs": [],
   "source": [
    "#Desenvolvido por Samuel Bartolomedi para Camisc\n",
    "#Abril/2021\n",
    "#automatização download wps office\n",
    "\n",
    "import pyautogui\n",
    "import time\n",
    "from selenium import webdriver\n",
    "\n",
    "navegador = webdriver.Chrome('D:\\Anaconda\\chromedriver.exe')\n",
    "navegador.maximize_window()\n",
    "\n",
    "pyautogui.PAUSE = 1\n",
    "pyautogui.alert(\"Vai começar, clique OK ou enter\")\n",
    "\n",
    "#baixar wps office\n",
    "navegador.get(\"https://wdl1.pcfg.cache.wpscdn.com/wpsdl/wpsoffice/download/11.2.0.10114/500.998/WPSOffice_11.2.0.10114.exe\")\n",
    "time.sleep(2)\n",
    "pyautogui.press(\"tab\")\n",
    "pyautogui.press(\"enter\")"
   ]
  },
  {
   "cell_type": "code",
   "execution_count": 1,
   "metadata": {},
   "outputs": [],
   "source": [
    "#Desenvolvido por Samuel Bartolomedi para Camisc\n",
    "#Abril/2021\n",
    "#automatização download spark\n",
    "\n",
    "import pyautogui\n",
    "import time\n",
    "from selenium import webdriver\n",
    "\n",
    "navegador = webdriver.Chrome('D:\\Anaconda\\chromedriver.exe')\n",
    "navegador.maximize_window()\n",
    "\n",
    "pyautogui.PAUSE = 1\n",
    "pyautogui.alert(\"Vai começar, clique OK ou enter\")\n",
    "\n",
    "#baixar spark\n",
    "navegador.get(\"https://igniterealtime.org/downloadServlet?filename=spark/spark_2_9_4-with-jre.exe\")\n",
    "time.sleep(2)\n",
    "pyautogui.press(\"tab\")\n",
    "pyautogui.press(\"enter\")"
   ]
  },
  {
   "cell_type": "code",
   "execution_count": 2,
   "metadata": {},
   "outputs": [],
   "source": [
    "#Desenvolvido por Samuel Bartolomedi para Camisc\n",
    "#Abril/2021\n",
    "#automatização download anydesk\n",
    "\n",
    "import pyautogui\n",
    "import time\n",
    "from selenium import webdriver\n",
    "\n",
    "navegador = webdriver.Chrome('D:\\Anaconda\\chromedriver.exe')\n",
    "navegador.maximize_window()\n",
    "pyautogui.PAUSE = 1\n",
    "pyautogui.alert(\"Vai começar, clique OK ou enter e não mexa no pc\")\n",
    "\n",
    "#baixar anydesk\n",
    "navegador.get(\"https://download.anydesk.com/AnyDesk.exe?_ga=2.101551494.64442513.1619620189-1536031532.1619620189\")\n",
    "time.sleep(2)\n",
    "pyautogui.press(\"tab\")\n",
    "pyautogui.press(\"enter\")"
   ]
  },
  {
   "cell_type": "code",
   "execution_count": null,
   "metadata": {},
   "outputs": [],
   "source": [
    "#Desenvolvido por Samuel Bartolomedi para Camisc\n",
    "#Abril/2021\n",
    "#automatização download thunderbird\n",
    "\n",
    "import pyautogui\n",
    "import time\n",
    "from selenium import webdriver\n",
    "\n",
    "navegador = webdriver.Chrome('D:\\Anaconda\\chromedriver.exe')\n",
    "navegador.maximize_window()\n",
    "pyautogui.PAUSE = 1\n",
    "pyautogui.alert(\"Vai começar, clique OK ou enter e não mexa no pc\")\n",
    "\n",
    "#baixar thunderbird\n",
    "navegador.get(\"https://download-installer.cdn.mozilla.net/pub/thunderbird/releases/78.10.0/win64/pt-BR/Thunderbird%20Setup%2078.10.0.exe\")\n",
    "time.sleep(2)\n",
    "pyautogui.press(\"tab\")\n",
    "pyautogui.press(\"enter\")"
   ]
  },
  {
   "cell_type": "code",
   "execution_count": 1,
   "metadata": {},
   "outputs": [
    {
     "data": {
      "text/plain": [
       "'OK'"
      ]
     },
     "execution_count": 1,
     "metadata": {},
     "output_type": "execute_result"
    }
   ],
   "source": [
    "#Desenvolvido por Samuel Bartolomedi para Camisc\n",
    "#Abril/2021\n",
    "#automatização download teams\n",
    "\n",
    "import pyautogui\n",
    "import time\n",
    "import pyperclip\n",
    "\n",
    "pyautogui.PAUSE = 1\n",
    "pyautogui.alert(\"Vai começar, clique OK ou pressione enter e não mexa no pc\")\n",
    "\n",
    "#baixar teams\n",
    "pyautogui.press(\"winleft\")\n",
    "pyautogui.write(\"chrome\")\n",
    "pyautogui.press(\"enter\")\n",
    "time.sleep(2)\n",
    "link = \"https://statics.teams.cdn.office.net/production-windows-x64/1.4.00.8872/Teams_windows_x64.exe\"\n",
    "pyperclip.copy(link)\n",
    "pyautogui.hotkey(\"ctrl\", \"v\")\n",
    "pyautogui.press(\"enter\")"
   ]
  },
  {
   "cell_type": "code",
   "execution_count": null,
   "metadata": {},
   "outputs": [],
   "source": [
    "#Desenvolvido por Samuel Bartolomedi para Camisc\n",
    "#Abril/2021\n",
    "#automatização download zoom\n",
    "\n",
    "import pyautogui\n",
    "import time\n",
    "import pyperclip\n",
    "\n",
    "pyautogui.PAUSE = 1\n",
    "pyautogui.alert(\"Vai começar, clique OK ou pressione enter e não mexa no pc\")\n",
    "\n",
    "#baixar zoom\n",
    "pyautogui.press(\"winleft\")\n",
    "pyautogui.write(\"chrome\")\n",
    "pyautogui.press(\"enter\")\n",
    "time.sleep(2)\n",
    "link = \"https://cdn.zoom.us/prod/5.6.5.823/x64/ZoomInstaller.exe\"\n",
    "pyperclip.copy(link)\n",
    "pyautogui.hotkey(\"ctrl\", \"v\")\n",
    "pyautogui.press(\"enter\")"
   ]
  },
  {
   "cell_type": "code",
   "execution_count": null,
   "metadata": {},
   "outputs": [],
   "source": [
    "#Desenvolvido por Samuel Bartolomedi para Camisc\n",
    "#Abril/2021\n",
    "#automatização download skype\n",
    "\n",
    "import pyautogui\n",
    "import time\n",
    "import pyperclip\n",
    "\n",
    "pyautogui.PAUSE = 1\n",
    "pyautogui.alert(\"Vai começar, clique OK ou pressione enter e não mexa no pc\")\n",
    "\n",
    "#baixar skype\n",
    "pyautogui.press(\"winleft\")\n",
    "pyautogui.write(\"chrome\")\n",
    "pyautogui.press(\"enter\")\n",
    "time.sleep(2)\n",
    "link = \"https://download.skype.com/s4l/download/win/Skype-8.71.0.49.exe\"\n",
    "pyperclip.copy(link)\n",
    "pyautogui.hotkey(\"ctrl\", \"v\")\n",
    "pyautogui.press(\"enter\")\n",
    "time.sleep(2)\n",
    "pyautogui.alert(\"Verifique sua pasta de downloads :)\")"
   ]
  }
 ],
 "metadata": {
  "kernelspec": {
   "display_name": "Python 3",
   "language": "python",
   "name": "python3"
  },
  "language_info": {
   "codemirror_mode": {
    "name": "ipython",
    "version": 3
   },
   "file_extension": ".py",
   "mimetype": "text/x-python",
   "name": "python",
   "nbconvert_exporter": "python",
   "pygments_lexer": "ipython3",
   "version": "3.8.8"
  }
 },
 "nbformat": 4,
 "nbformat_minor": 4
}
