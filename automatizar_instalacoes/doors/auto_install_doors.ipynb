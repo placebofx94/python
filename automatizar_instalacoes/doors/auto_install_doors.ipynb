{
 "cells": [
  {
   "cell_type": "code",
   "execution_count": 1,
   "metadata": {},
   "outputs": [],
   "source": [
    "#Desenvolvido por Samuel Bartolomedi para Camisc\n",
    "#Abril/2021\n",
    "#automatização download e instalação doors\n",
    "\n",
    "import pyautogui\n",
    "import time\n",
    "import pyperclip\n",
    "\n",
    "pyautogui.PAUSE = 1\n",
    "pyautogui.alert(\"Vai começar, clique OK ou pressione enter e não mexa no pc\")\n",
    "\n",
    "#instalar doors\n",
    "time.sleep(2)\n",
    "pyautogui.press(\"winleft\")\n",
    "pyautogui.write(\"Doors.application\")\n",
    "pyautogui.press(\"up\")\n",
    "pyautogui.press(\"enter\")\n",
    "time.sleep(2)\n",
    "pyautogui.press(\"left\")\n",
    "pyautogui.press(\"enter\")"
   ]
  },
  {
   "cell_type": "code",
   "execution_count": null,
   "metadata": {},
   "outputs": [],
   "source": []
  }
 ],
 "metadata": {
  "kernelspec": {
   "display_name": "Python 3",
   "language": "python",
   "name": "python3"
  },
  "language_info": {
   "codemirror_mode": {
    "name": "ipython",
    "version": 3
   },
   "file_extension": ".py",
   "mimetype": "text/x-python",
   "name": "python",
   "nbconvert_exporter": "python",
   "pygments_lexer": "ipython3",
   "version": "3.8.5"
  }
 },
 "nbformat": 4,
 "nbformat_minor": 4
}
