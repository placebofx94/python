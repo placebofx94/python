{
 "cells": [
  {
   "cell_type": "code",
   "execution_count": null,
   "metadata": {},
   "outputs": [],
   "source": [
    "#Desenvolvido por Samuel Bartolomedi para Camisc\n",
    "#Abril/2021\n",
    "#automatização download e instalação(fail) wps office\n",
    "\n",
    "import pyautogui\n",
    "import time\n",
    "import pyperclip\n",
    "\n",
    "pyautogui.PAUSE = 1\n",
    "pyautogui.alert(\"Vai começar, clique OK ou pressione enter e não mexa no pc\")\n",
    "\n",
    "#baixar wps office\n",
    "pyautogui.press(\"winleft\")\n",
    "pyautogui.write(\"chrome\")\n",
    "pyautogui.press(\"enter\")\n",
    "time.sleep(2)\n",
    "link = \"https://wdl1.pcfg.cache.wpscdn.com/wpsdl/wpsoffice/download/11.2.0.10114/500.998/WPSOffice_11.2.0.10114.exe\"\n",
    "pyperclip.copy(link)\n",
    "pyautogui.hotkey(\"ctrl\", \"v\")\n",
    "pyautogui.press(\"enter\")\n",
    "time.sleep(2)\n",
    "pyautogui.alert(\"Verifique sua pasta de downloads :)\")"
   ]
  }
 ],
 "metadata": {
  "kernelspec": {
   "display_name": "Python 3",
   "language": "python",
   "name": "python3"
  },
  "language_info": {
   "codemirror_mode": {
    "name": "ipython",
    "version": 3
   },
   "file_extension": ".py",
   "mimetype": "text/x-python",
   "name": "python",
   "nbconvert_exporter": "python",
   "pygments_lexer": "ipython3",
   "version": "3.8.5"
  }
 },
 "nbformat": 4,
 "nbformat_minor": 4
}
