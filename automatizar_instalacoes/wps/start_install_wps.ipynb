{
 "cells": [
  {
   "cell_type": "code",
   "execution_count": 3,
   "metadata": {},
   "outputs": [],
   "source": [
    "#Desenvolvido por Samuel Bartolomedi para Camisc\n",
    "#Abril/2021\n",
    "#automatização instalação wps office\n",
    "\n",
    "import pyautogui\n",
    "import time\n",
    "import pyperclip\n",
    "\n",
    "pyautogui.PAUSE = 1\n",
    "pyautogui.alert(\"Vai começar, clique OK ou enter e não mexa no pc\")\n",
    "\n",
    "#instalar wps office\n",
    "time.sleep(2)\n",
    "pyautogui.hotkey(\"winleft\")\n",
    "pyautogui.write(\"WPSOffice_*.exe\")\n",
    "pyautogui.press(\"up\")\n",
    "pyautogui.press(\"enter\")\n",
    "time.sleep(2)\n",
    "pyautogui.press(\"e\")\n",
    "time.sleep(2)\n",
    "pyautogui.press(\"e\")\n",
    "pyautogui.alert(\"ATENÇÃO! confira se a janela não foi minimizada. Vc tem 8 segundos\")\n",
    "time.sleep(8)\n",
    "pyautogui.click(77, 470)\n",
    "pyautogui.click(647, 471)"
   ]
  },
  {
   "cell_type": "code",
   "execution_count": null,
   "metadata": {},
   "outputs": [],
   "source": []
  }
 ],
 "metadata": {
  "kernelspec": {
   "display_name": "Python 3",
   "language": "python",
   "name": "python3"
  },
  "language_info": {
   "codemirror_mode": {
    "name": "ipython",
    "version": 3
   },
   "file_extension": ".py",
   "mimetype": "text/x-python",
   "name": "python",
   "nbconvert_exporter": "python",
   "pygments_lexer": "ipython3",
   "version": "3.8.5"
  }
 },
 "nbformat": 4,
 "nbformat_minor": 4
}
