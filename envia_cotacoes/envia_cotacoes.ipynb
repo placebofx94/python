{
 "cells": [
  {
   "cell_type": "code",
   "execution_count": null,
   "metadata": {},
   "outputs": [],
   "source": [
    "import requests\n",
    "\n",
    "url = 'https:http://ws.camisc.coop.br/ws/ws.asmx/cotacoes'\n",
    "\n",
    "response = requests.get(url=url, json=cotacoes)\n",
    "\n",
    "if response.status_code >= 200 and response.status_code <= 299:\n",
    "    print(response.reason)\n",
    "    \n",
    "    response_data = response.json()\n",
    "    print(response_data)\n",
    "    \n",
    "else:\n",
    "    print(response.reason)"
   ]
  },
  {
   "cell_type": "code",
   "execution_count": 1,
   "metadata": {},
   "outputs": [
    {
     "data": {
      "text/plain": [
       "0     Preços Camisc 17/05\n",
       "1                      PR\n",
       "2            Milho: 96,90\n",
       "3            Soja: 162,50\n",
       "4     Trigo(PH 78): 87,00\n",
       "5                      SC\n",
       "6            Milho: 97,10\n",
       "7            Soja: 162,50\n",
       "8    Trigo (PH 78): 87,00\n",
       "9             Dólar: 5,31\n",
       "Name: Mensagem, dtype: string"
      ]
     },
     "metadata": {},
     "output_type": "display_data"
    }
   ],
   "source": [
    "'''\n",
    "#método antigo, puxava informações de um arquivo\n",
    "import pandas as pd\n",
    "\n",
    "#importar do arquivo e transformar em string\n",
    "df_texto = pd.read_excel('texto.xlsx')\n",
    "df_texto['Mensagem'] = df_texto['Mensagem'].astype('string')\n",
    "texto = df_texto['Mensagem']\n",
    "display(texto)"
   ]
  },
  {
   "cell_type": "code",
   "execution_count": 4,
   "metadata": {},
   "outputs": [],
   "source": [
    "from selenium import webdriver\n",
    "from selenium.webdriver.common.keys import Keys\n",
    "from selenium.webdriver.chrome.options import Options\n",
    "import time\n",
    "\n",
    "#habilitar cookies\n",
    "options = Options()\n",
    "options.add_argument(\"--user-data-dir=C:\\Program Files\\Google\\Chrome\\Application\\chrome-data\")\n",
    "options.add_experimental_option(\"excludeSwitches\", [\"enable-automation\"])\n",
    "options.add_experimental_option('useAutomationExtension', True)\n",
    "\n",
    "#logar autenticado se já escaneou o qrcode\n",
    "navegador = webdriver.Chrome('D:\\Anaconda\\chromedriver.exe', options = options)\n",
    "navegador.maximize_window()\n",
    "navegador.get('https://web.whatsapp.com/')\n",
    "\n",
    "#procura elemento pelo id. side só aparece após ter feito login\n",
    "while len(navegador.find_elements_by_id('side')) < 1:\n",
    "    time.sleep(2)\n",
    "    \n",
    "#entrar no grupo e enviar msg\n",
    "time.sleep(2)\n",
    "navegador.find_element_by_xpath(\"//*[@title='teste']\").click()\n",
    "time.sleep(2)\n",
    "navegador.find_element_by_xpath('//*[@id=\"main\"]/footer/div[1]/div[2]/div/div[2]').send_keys(texto)"
   ]
  }
 ],
 "metadata": {
  "kernelspec": {
   "display_name": "Python 3",
   "language": "python",
   "name": "python3"
  },
  "language_info": {
   "codemirror_mode": {
    "name": "ipython",
    "version": 3
   },
   "file_extension": ".py",
   "mimetype": "text/x-python",
   "name": "python",
   "nbconvert_exporter": "python",
   "pygments_lexer": "ipython3",
   "version": "3.8.8"
  }
 },
 "nbformat": 4,
 "nbformat_minor": 4
}
