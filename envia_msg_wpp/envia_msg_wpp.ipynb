{
 "cells": [
  {
   "cell_type": "code",
   "execution_count": 1,
   "metadata": {},
   "outputs": [],
   "source": [
    "import pandas as pd\n",
    "#busca o arquivo com n°s e msg, só descomentar\n",
    "#df_contatos = pd.read_excel('seu arquivo excel com envio.xlsx')\n",
    "#mostra a lista de contatos e msg que vai enviar, só descomentar\n",
    "#display(df_contatos)"
   ]
  },
  {
   "cell_type": "code",
   "execution_count": 13,
   "metadata": {},
   "outputs": [],
   "source": [
    "from selenium import webdriver\n",
    "from selenium.webdriver.common.keys import Keys\n",
    "import time\n",
    "import urllib\n",
    "\n",
    "navegador = webdriver.Chrome()\n",
    "navegador.get('https://web.whatsapp.com/')\n",
    "\n",
    "#procura elemento pelo id. side só aparece após ter feito login\n",
    "while len(navegador.find_elements_by_id('side')) < 1:\n",
    "    time.sleep(2)\n",
    "    \n",
    "#montar msg e enviar\n",
    "for i, mensagem in enumerate(df_contatos['Mensagem']):\n",
    "    pessoa = df_contatos.loc[i, 'Pessoa']\n",
    "    numero = df_contatos.loc[i, 'Número']\n",
    "    texto = urllib.parse.quote(f'Boa tarde {pessoa}, {mensagem}')\n",
    "    link = f'https://web.whatsapp.com/send?phone={numero}&text={texto}'\n",
    "    navegador.get(link)\n",
    "    while len(navegador.find_elements_by_id('side')) < 1:\n",
    "        time.sleep(2)\n",
    "    navegador.find_element_by_xpath('//*[@id=\"main\"]/footer/div[1]/div[2]/div/div[2]').send_keys(Keys.ENTER)\n",
    "    time.sleep(10)"
   ]
  },
  {
   "cell_type": "code",
   "execution_count": null,
   "metadata": {},
   "outputs": [],
   "source": []
  }
 ],
 "metadata": {
  "kernelspec": {
   "display_name": "Python 3",
   "language": "python",
   "name": "python3"
  },
  "language_info": {
   "codemirror_mode": {
    "name": "ipython",
    "version": 3
   },
   "file_extension": ".py",
   "mimetype": "text/x-python",
   "name": "python",
   "nbconvert_exporter": "python",
   "pygments_lexer": "ipython3",
   "version": "3.8.5"
  }
 },
 "nbformat": 4,
 "nbformat_minor": 4
}
